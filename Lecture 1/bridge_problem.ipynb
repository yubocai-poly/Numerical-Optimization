{
 "cells": [
  {
   "attachments": {},
   "cell_type": "markdown",
   "metadata": {},
   "source": [
    "## Exercise 2. Build a bridge"
   ]
  },
  {
   "cell_type": "code",
   "execution_count": 9,
   "metadata": {},
   "outputs": [],
   "source": [
    "Auther = 'Yubo Cai'\n",
    "Email = 'yubo.cai@polytechnique.edu'"
   ]
  },
  {
   "attachments": {},
   "cell_type": "markdown",
   "metadata": {},
   "source": [
    "<table>\n",
    "<tr>   \n",
    "<td bgcolor = lightblue ><font color = white >Question 1.a</td>\n",
    "</tr>\n",
    "</table>\n",
    "\n",
    "---\n",
    "We denote the coordinate of the bridge as $x$, then we have the distance that\n",
    "$$\n",
    "l(x) = \\|A-(x,0.5)\\| + \\|B - (x,0.5)\\| + 1 = \\sqrt{(x+2)^2 + \\frac{49}{4}} + \\sqrt{(x-10)^2 + \\frac{25}{4}} + 1\n",
    "$$\n",
    "\n",
    "---\n",
    "\n",
    "<table>\n",
    "<tr>   \n",
    "<td bgcolor = lightblue ><font color = white >Question 1.b</td>\n",
    "</tr>\n",
    "</table>\n",
    "\n",
    "---\n",
    "If we remove the $1$ in the distance, then the minimal distance is just the distance between $A$ and $B$, which is $\\sqrt{12^2 + 6^2} + 1 = 6\\sqrt{5} + 1$. This is the straight line distance between $A$ and $B$.\n",
    "\n",
    "---"
   ]
  },
  {
   "cell_type": "code",
   "execution_count": 8,
   "metadata": {},
   "outputs": [
    {
     "name": "stdout",
     "output_type": "stream",
     "text": [
      "The minimum is at x =  5.000030517578125\n",
      "The minimum is at l(x) =  14.416407865027299\n",
      "Our theorectical minimum is at x =  14.416407864998739\n"
     ]
    },
    {
     "data": {
      "image/png": "[encoded data removed]",
      "text/plain": [
       "<Figure size 720x504 with 1 Axes>"
      ]
     },
     "metadata": {
      "needs_background": "light"
     },
     "output_type": "display_data"
    }
   ],
   "source": [
    "import numpy as np\n",
    "import matplotlib.pyplot as plt\n",
    "\n",
    "\n",
    "# question 2\n",
    "def l(x):\n",
    "    return np.sqrt((x + 2)**2 + 49 / 4) + np.sqrt((x - 10)**2 + 25 / 4) + 1\n",
    "\n",
    "\n",
    "# we apply the bisection search method to find the minimum\n",
    "# we set the tolerance to 0.0001\n",
    "# we set the maximum number of iterations to 1000\n",
    "# we set the interval to [-2, 10]\n",
    "a = -2.0  # initial lower bound\n",
    "b = 10  # initial upper bound\n",
    "maxN = 10000  # max number of function evaluations\n",
    "nfeval = 0  # counter for function evaulations\n",
    "variant = 1  # change the function\n",
    "Tol = 1e-4  # desired tolerance\n",
    "va = l(a)  # initial values for the function\n",
    "vb = l(b)\n",
    "\n",
    "\n",
    "def Bisection(fun, A, B, tol=1e-6, ubFeval=10):\n",
    "    nfeval = 0\n",
    "    lbhist = []\n",
    "    ubhist = []\n",
    "    xmidhist = []\n",
    "    lb = A\n",
    "    ub = B\n",
    "    lbhist.append(lb)\n",
    "    ubhist.append(ub)\n",
    "    while ub - lb > tol:\n",
    "        xmid = (lb + ub) / 2\n",
    "        # the compute the derivative\n",
    "        df = (fun(xmid + tol) - fun(xmid)) / tol\n",
    "        if df >= 0:\n",
    "            ub = xmid\n",
    "        else:\n",
    "            lb = xmid\n",
    "        lbhist.append(lb)\n",
    "        ubhist.append(ub)\n",
    "        xmidhist.append(xmid)\n",
    "        nfeval += 1\n",
    "        if nfeval > ubFeval:\n",
    "            break\n",
    "    return lbhist, ubhist, xmidhist, nfeval\n",
    "\n",
    "\n",
    "lbhist, ubhist, xmidhist, nfeval = Bisection(l, a, b, tol=Tol, ubFeval=maxN)\n",
    "# print the results\n",
    "print('The minimum is at x = ', xmidhist[-1])\n",
    "print('The minimum is at l(x) = ', l(xmidhist[-1]))\n",
    "print('Our theorectical minimum is at x = ', 6 * np.sqrt(5) + 1)\n",
    "\n",
    "fig, ax = plt.subplots(figsize=(10, 7))\n",
    "plt.title('The minimum of the function l(x) using the bisection method')\n",
    "ax.set_xlim([-5, 11])\n",
    "ax.set_ylim([-5, 5])\n",
    "\n",
    "ax.axhline(y=0, color='black', linewidth=1)\n",
    "ax.axvline(x=0, color='black', linewidth=1)\n",
    "ax.axhspan(-0.5, 0.5, facecolor='lightblue', alpha=0.5)\n",
    "ax.plot([-2, 10], [4, -3], 'o', color='red')\n",
    "ax.plot([5, 5], [0.5, -0.5], 'o', color='red')\n",
    "ax.text(-2, 4.2, \"A (-2,4)\", fontsize=10)\n",
    "ax.text(10, -3.8, \"B (10,3)\", fontsize=10)\n",
    "ax.text(5, 1, \"Optimal Bridge Position\", fontsize=10)\n",
    "\n",
    "# plot the line\n",
    "ax.plot([-2, 5], [4, 0.5], '-', color='green')\n",
    "ax.plot([5, 5], [0.5, -0.5],\n",
    "        '-',\n",
    "        color='green')\n",
    "ax.plot([5, 10], [-0.5, -3], '-', color='green')\n",
    "plt.show()\n"
   ]
  },
  {
   "attachments": {},
   "cell_type": "markdown",
   "metadata": {},
   "source": [
    "<table>\n",
    "<tr>   \n",
    "<td bgcolor = lightblue ><font color = white >Question 3</td>\n",
    "</tr>\n",
    "</table>\n",
    "\n",
    "---\n",
    "We have the center follow the path $(x, \\gamma(x))$, where $\\gamma(x)=0.3\\sin(0.25(x+1))$. Then we have the upperbound function that $\\gamma_{upper}(x)=0.3\\sin(0.25(x+1))+0.5$ and the lowerbound function that $\\gamma_{lower}(x)=0.3\\sin(0.25(x+1))-0.5$. Then we assume the contact point for upperbound part is $(x, \\gamma_{upper}(x))$. Then we try to compute the point in the lowerbound part.\n",
    "\n",
    "We need to compute the slope of the contact point by derivative, we got $\\gamma(x)' = 0.075\\cos(0.25(x+1))$. Then we got the contact point for lowerbound that $(x, \\gamma_{lower}(x))=(x, \\gamma_{upper}(x))+\\frac{1}{\\sqrt{1+\\left(\\gamma^{\\prime}(x)\\right)^2}}\\left(\\gamma^{\\prime}(x), -1\\right)$. Therefore, we can build the system as following code:\n",
    "\n",
    "---"
   ]
  },
  {
   "cell_type": "code",
   "execution_count": 14,
   "metadata": {},
   "outputs": [
    {
     "name": "stdout",
     "output_type": "stream",
     "text": [
      "The optimal coordinate choice for upperbound is at  (4.069488525390625, 0.7862956914342487)\n",
      "The minimum is at l(x) =  14.442244443686088\n",
      "The optimal coordinate choice for lowerbound is at  (4.091892130344276, -0.2134533163097353)\n"
     ]
    }
   ],
   "source": [
    "# question 3\n",
    "def gamma_upper(x):\n",
    "     return 0.3 * np.sin(0.25 * (x+1)) + 0.5\n",
    "   \n",
    "def gamma_derivative(x):\n",
    "    return 0.075 * np.cos(0.25 * (x+1))\n",
    "  \n",
    "def gamma_norm(x):\n",
    "    return 1 / np.sqrt(1 + gamma_derivative(x)**2)\n",
    "  \n",
    "def l_distance_upper(x):\n",
    "    return np.sqrt((x + 2)**2 + (4 - gamma_upper(x)) ** 2)\n",
    "  \n",
    "def l_distance_lower(x):\n",
    "    x_lower = x + gamma_norm(x) * gamma_derivative(x)\n",
    "    y_lower = gamma_upper(x) - gamma_norm(x)\n",
    "    return np.sqrt((x_lower - 10)**2 + (3 - y_lower) ** 2)\n",
    "\n",
    "def l_distance(x):\n",
    "    return l_distance_upper(x) + l_distance_lower(x) + 1\n",
    "\n",
    "a = -2.0  # initial lower bound\n",
    "b = 10  # initial upper bound\n",
    "maxN = 10000  # max number of function evaluations\n",
    "nfeval = 0  # counter for function evaulations\n",
    "variant = 1  # change the function\n",
    "Tol = 1e-4  # desired tolerance\n",
    "va = l(a)  # initial values for the function\n",
    "vb = l(b)\n",
    "\n",
    "\n",
    "def Bisection(fun, A, B, tol=1e-6, ubFeval=10):\n",
    "    nfeval = 0\n",
    "    lbhist = []\n",
    "    ubhist = []\n",
    "    xmidhist = []\n",
    "    lb = A\n",
    "    ub = B\n",
    "    lbhist.append(lb)\n",
    "    ubhist.append(ub)\n",
    "    while ub - lb > tol:\n",
    "        xmid = (lb + ub) / 2\n",
    "        # the compute the derivative\n",
    "        df = (fun(xmid + tol) - fun(xmid)) / tol\n",
    "        if df >= 0:\n",
    "            ub = xmid\n",
    "        else:\n",
    "            lb = xmid\n",
    "        lbhist.append(lb)\n",
    "        ubhist.append(ub)\n",
    "        xmidhist.append(xmid)\n",
    "        nfeval += 1\n",
    "        if nfeval > ubFeval:\n",
    "            break\n",
    "    return lbhist, ubhist, xmidhist, nfeval\n",
    "\n",
    "\n",
    "lbhist, ubhist, xmidhist, nfeval = Bisection(l_distance, a, b, tol=Tol, ubFeval=maxN)\n",
    "# print the results\n",
    "print('The optimal coordinate choice for upperbound is at ', (xmidhist[-1], gamma_upper(xmidhist[-1])))\n",
    "print('The minimum is at l(x) = ', l(xmidhist[-1]))\n",
    "print('The optimal coordinate choice for lowerbound is at ', (xmidhist[-1] + gamma_norm(xmidhist[-1]) * gamma_derivative(xmidhist[-1]), gamma_upper(xmidhist[-1]) - gamma_norm(xmidhist[-1])))"
   ]
  },
  {
   "cell_type": "code",
   "execution_count": 33,
   "metadata": {},
   "outputs": [
    {
     "data": {
      "image/png": "[encoded data removed]",
      "text/plain": [
       "<Figure size 720x504 with 1 Axes>"
      ]
     },
     "metadata": {
      "needs_background": "light"
     },
     "output_type": "display_data"
    }
   ],
   "source": [
    "# plot the graph\n",
    "fig, ax = plt.subplots(figsize=(10, 7))\n",
    "plt.title('The minimum of the function l(x) using the bisection method')\n",
    "ax.set_xlim([-5, 11])\n",
    "ax.set_ylim([-5, 5])\n",
    "\n",
    "ax.axhline(y=0, color='black', linewidth=1)\n",
    "ax.axvline(x=0, color='black', linewidth=1)\n",
    "\n",
    "x = np.arange(-5, 12, 0.1)\n",
    "y_upper = 0.3 * np.sin(0.25 * (x+1)) + 0.5\n",
    "y_lower = 0.3 * np.sin(0.25 * (x+1)) - 0.5\n",
    "\n",
    "# Plot the shaded region between the upper and lower bounds\n",
    "plt.fill_between(x, y_upper, y_lower, color='lightblue')\n",
    "\n",
    "ax.plot([-2, 10], [4, -3], 'o', color='red')\n",
    "ax.plot([4.069488525390625, 4.091892130344276], [0.7862956914342487, -0.2134533163097353], 'o', color='red')\n",
    "ax.text(-2, 4.2, \"A (-2,4)\", fontsize=10)\n",
    "ax.text(10, -3.8, \"B (10,3)\", fontsize=10)\n",
    "ax.text(1.069488525390625, 0.7862956914342487, \"Upper contact point\", fontsize=10)\n",
    "ax.text(1.091892130344276, -0.2134533163097353, \"Lower contact point\", fontsize=10)\n",
    "ax.text(5, 1, \"Optimal Bridge Position\", fontsize=10)\n",
    "\n",
    "# plot the line\n",
    "ax.plot([-2, 4.069488525390625], [4, 0.7862956914342487], '-', color='green')\n",
    "ax.plot([4.069488525390625,  4.091892130344276], [0.7862956914342487, -0.2134533163097353],\n",
    "        '-',\n",
    "        color='green')\n",
    "ax.plot([4.091892130344276, 10], [-0.2134533163097353, -3], '-', color='green')\n",
    "plt.show()\n"
   ]
  },
  {
   "attachments": {},
   "cell_type": "markdown",
   "metadata": {},
   "source": [
    "<table>\n",
    "<tr>   \n",
    "<td bgcolor = lightblue ><font color = white >Answer</td>\n",
    "</tr>\n",
    "</table>\n",
    "\n",
    "---\n",
    "From the above code, we can see that the minimal distance is $14.442244443686088$. And the coordinate of the bridge is $(4.069488525390625, 0.7862956914342487)$ and $(4.091892130344276, -0.2134533163097353)$\n",
    "\n",
    "---"
   ]
  }
 ],
 "metadata": {
  "kernelspec": {
   "display_name": "base",
   "language": "python",
   "name": "python3"
  },
  "language_info": {
   "codemirror_mode": {
    "name": "ipython",
    "version": 3
   },
   "file_extension": ".py",
   "mimetype": "text/x-python",
   "name": "python",
   "nbconvert_exporter": "python",
   "pygments_lexer": "ipython3",
   "version": "3.9.7"
  },
  "orig_nbformat": 4
 },
 "nbformat": 4,
 "nbformat_minor": 2
}
