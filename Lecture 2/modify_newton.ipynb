{
 "cells": [
  {
   "cell_type": "code",
   "execution_count": 1,
   "metadata": {},
   "outputs": [],
   "source": [
    "import numpy as np\n",
    "import pylab as pl\n",
    "import matplotlib.pyplot as plt\n",
    "plt.rcParams['figure.dpi']= 100  # parameter for resolution of graphics\n",
    "import time\n",
    "\n",
    "v = 5   # variant corresponding to the number of the function below\n",
    "Niter = 1000 # Number of iterations\n",
    "tol = 1e-14\n",
    "x0 = 1.3 # Initialization\n",
    "a = -2.5   # Lower bound for the plot interval\n",
    "b = 2.5    # Upper bound for the plot interval"
   ]
  },
  {
   "attachments": {},
   "cell_type": "markdown",
   "metadata": {},
   "source": [
    "## Various objective functions\n",
    "\n",
    "Here we consider multiple functions to be tested with Newton's method\n",
    "\n",
    "Case 0: $f(x) = x^2$ (quadratic function, convergence in $1$ iteration)\n",
    "\n",
    "Case 1: $f(x) = x^6/6-x^2/2+x$ (here the choice of the initialization is important)\n",
    "\n",
    "Case 2: $f(x) = x^2-\\sin x$ \n",
    "\n",
    "Case 3: $f(x) = x^2+\\exp x$\n",
    "\n",
    "Case 4: $f(x) = x^4$ (this does not verify the non-degeneracy hypothesis: quadratic convergence is not attained)\n",
    "\n",
    "Case 5: $f(x) = \\sqrt{1+x^2}$ (here the choice of initialization is important: for $|x|<1$ we have cubic convergence, while for $|x|\\geq 1$ the algorithm diverges)"
   ]
  },
  {
   "cell_type": "code",
   "execution_count": 2,
   "metadata": {},
   "outputs": [],
   "source": [
    "def fun(x, v):  # function definition\n",
    "    if v == 0:\n",
    "        return x**2\n",
    "    if v == 1:\n",
    "        return x**6 / 6 - x**2 / 2 + x\n",
    "    if v == 2:\n",
    "        return x**2 - np.sin(x)\n",
    "    if v == 3:\n",
    "        return x**2 + np.exp(x)\n",
    "    if v == 4:\n",
    "        return x**4\n",
    "    if v == 5:\n",
    "        return np.sqrt(1 + x**2)\n",
    "\n",
    "\n",
    "def der(x, v):  # first derivative\n",
    "    if v == 0:\n",
    "        return 2 * x\n",
    "    if v == 1:\n",
    "        return x**5 - x + 1\n",
    "    if v == 2:\n",
    "        return 2 * x - np.cos(x)\n",
    "    if v == 3:\n",
    "        return 2 * x + np.exp(x)\n",
    "    if v == 4:\n",
    "        return 4 * x**3\n",
    "    if v == 5:\n",
    "        return x / np.sqrt(1 + x**2)\n",
    "\n",
    "\n",
    "def der2(x, v):  # second derivative\n",
    "    if v == 0:\n",
    "        return 2\n",
    "    if v == 1:\n",
    "        return 5 * x**4 - 1\n",
    "    if v == 2:\n",
    "        return 2 + np.sin(x)\n",
    "    if v == 3:\n",
    "        return 2 + np.exp(x)\n",
    "    if v == 4:\n",
    "        return 12 * x**2\n",
    "    if v == 5:\n",
    "        return 1 / np.sqrt(1 + x**2)**3\n",
    "\n",
    "\n",
    "# List of optimizers for the above functions\n",
    "if v == 0:\n",
    "    analytic = 0\n",
    "if v == 1:\n",
    "    analytic = -1.1673039782614187\n",
    "if v == 2:\n",
    "    analytic = 0.45018361129487355\n",
    "if v == 3:\n",
    "    analytic = -0.35173371124919584\n",
    "if v == 4:\n",
    "    analytic = 0\n",
    "if v == 5:\n",
    "    analytic = 0"
   ]
  },
  {
   "cell_type": "code",
   "execution_count": 12,
   "metadata": {},
   "outputs": [
    {
     "name": "stderr",
     "output_type": "stream",
     "text": [
      "/var/folders/rf/3_96g3x522q394xqlyg__5l00000gn/T/ipykernel_63646/3173919075.py:30: RuntimeWarning: invalid value encountered in double_scalars\n",
      "  if abs(x1 - x0) / abs(x1) < tol or abs(fun(x1, v)) < tol:\n"
     ]
    },
    {
     "data": {
      "image/png": "[encoded data removed]",
      "text/plain": [
       "<Figure size 432x288 with 1 Axes>"
      ]
     },
     "metadata": {
      "needs_background": "light"
     },
     "output_type": "display_data"
    }
   ],
   "source": [
    "# Define a function that applies the Newton algorithm\n",
    "# given a function with given first and second derivatives\n",
    "def Newton(fun, der, der2, a, b, maxit, tol=1e-6):\n",
    "    uplim = max(fun(a, v), fun(b, v)) + 1   # set limits for the plot window\n",
    "    dnlim = -3\n",
    "    t1 = np.linspace(a, b, 100)      # Create a discretization to be used with the plots\n",
    "    plt.figure(1)\n",
    "    plt.ylim([dnlim, uplim])         # Set upper bounds for the figure\n",
    "    plt.plot(t1, fun(t1, v), 'k')      # Plot the function to be optimized on the interval [a, b]\n",
    "    vals = []\n",
    "    x0 = (a + b) / 2                # set initial point as the midpoint of the interval\n",
    "    vals.append(x0)                 # Create a list which holds the optimization history\n",
    "    \n",
    "    for i in range(maxit):\n",
    "        # Define the Newton interpolating polynomial: see the course   \n",
    "        \n",
    "        fv = fun(x0, v)\n",
    "        plt.plot(x0, fv, 'bo')\n",
    "        fp = der(x0, v)\n",
    "        fpp = der2(x0, v)\n",
    "        if fpp == 0:                 # avoid division by zero\n",
    "            break\n",
    "        # Compute the next point using the bisection method and Newton's method\n",
    "        x1 = x0 - fp / fpp\n",
    "        x2 = (a + b) / 2\n",
    "        if x1 < a or x1 > b:         # if Newton's method goes outside the interval, use bisection method\n",
    "            x1 = x2\n",
    "            \n",
    "        # check if the stopping criterion is reached\n",
    "        if abs(x1 - x0) / abs(x1) < tol or abs(fun(x1, v)) < tol:\n",
    "            print(\"Stopping criterion reached: exit the loop!\")\n",
    "            break\n",
    "        if np.sign(fun(x1, v)) == np.sign(fun(x0, v)):  # determine the new interval bracketing the minimum\n",
    "            a = x1\n",
    "        else:\n",
    "            b = x1\n",
    "        x0 = x1\n",
    "        plt.plot(x0, fun(x0, v), 'ro')          # Plot the next point\n",
    "        vals.append(x0)                      # Update the list of values\n",
    "    return np.array(vals)\n",
    "\n",
    "# run the algorithm for one of the variants given\n",
    "vals = Newton(fun, der, der2, -2, 2, 200, tol=1e-6)\n"
   ]
  },
  {
   "cell_type": "code",
   "execution_count": 8,
   "metadata": {},
   "outputs": [
    {
     "name": "stdout",
     "output_type": "stream",
     "text": [
      "Solution Found: 0.0\n"
     ]
    },
    {
     "data": {
      "image/png": "[encoded data removed]",
      "text/plain": [
       "<Figure size 432x288 with 1 Axes>"
      ]
     },
     "metadata": {
      "needs_background": "light"
     },
     "output_type": "display_data"
    }
   ],
   "source": [
    "print(\"Solution Found:\",vals[-1])          # Print the solution\n",
    "#print(\"History:\")                    # Print the values of the function throughout the optimization\n",
    "#for i in range(0,vals.size):\n",
    "#    print(i,\" \",vals[i])\n",
    "\n",
    "dis = np.linspace(1,Niter,Niter)   # Error analysis     \n",
    "errors = abs(vals-analytic)          # Compute differences between current points and the optimum\n",
    "if(dis.size>10):\n",
    "    dis2 = dis[0:10]\n",
    "else:\n",
    "    dis2 = dis\n",
    "sq  = 0.1**dis2                      # Construct curve of order 1\n",
    "sq2 = 10*sq**2                      # Construct curve of order 2\n",
    "sq3 = 100*sq**3                      # Construct curve of order 3\n",
    "lam = (np.sqrt(5)+1)/2\n",
    "\n",
    "sqlam = 100*sq**lam                      # Construct curve of order 3\n",
    "\n",
    "\n",
    "\n",
    "plt.figure(2)\n",
    "plt.loglog(errors[:-1:],errors[1:],label='Errors')  # Plot the errors in log-log plot\n",
    "\n",
    "plt.loglog(sq,sq,label='Order 1')\n",
    "plt.loglog(sq,sq2,label='Order 2')                  # Plot order curves for comparison\n",
    "plt.loglog(sq,sq3,label='Order 3')\n",
    "plt.loglog(sq,sqlam,label='Order lambda')\n",
    "\n",
    "plt.legend(loc='best', shadow=True, fontsize='large')  # Show legend\n",
    "#plt.savefig('ConvOrder.png',dpi=300)\n",
    "plt.show()                                          # Show plot"
   ]
  }
 ],
 "metadata": {
  "kernelspec": {
   "display_name": "base",
   "language": "python",
   "name": "python3"
  },
  "language_info": {
   "codemirror_mode": {
    "name": "ipython",
    "version": 3
   },
   "file_extension": ".py",
   "mimetype": "text/x-python",
   "name": "python",
   "nbconvert_exporter": "python",
   "pygments_lexer": "ipython3",
   "version": "3.9.7"
  },
  "orig_nbformat": 4
 },
 "nbformat": 4,
 "nbformat_minor": 2
}
