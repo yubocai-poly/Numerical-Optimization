{
 "cells": [
  {
   "cell_type": "markdown",
   "metadata": {},
   "source": [
    "# Newton's Method - Illustrative Examples - Dimension 1\n",
    "\n",
    "This code illustrate Newton's method for various functions defined below. In particular, it contains a few examples which show the importance of every hypothesis in the theoretical quadratic convergence result."
   ]
  },
  {
   "cell_type": "code",
   "execution_count": 2,
   "metadata": {},
   "outputs": [],
   "source": [
    "import numpy as np\n",
    "import pylab as pl\n",
    "import matplotlib.pyplot as plt\n",
    "plt.rcParams['figure.dpi']= 100  # parameter for resolution of graphics\n",
    "import time\n",
    "\n",
    "v = 5   # variant corresponding to the number of the function below\n",
    "Niter = 1000 # Number of iterations\n",
    "tol = 1e-14\n",
    "x0 = 1.3 # Initialization\n",
    "a = -2.5   # Lower bound for the plot interval\n",
    "b = 2.5    # Upper bound for the plot interval"
   ]
  },
  {
   "cell_type": "markdown",
   "metadata": {},
   "source": [
    "## Various objective functions\n",
    "\n",
    "Here we consider multiple functions to be tested with Newton's method\n",
    "\n",
    "Case 0: $f(x) = x^2$ (quadratic function, convergence in $1$ iteration)\n",
    "\n",
    "Case 1: $f(x) = x^6/6-x^2/2+x$ (here the choice of the initialization is important)\n",
    "\n",
    "Case 2: $f(x) = x^2-\\sin x$ \n",
    "\n",
    "Case 3: $f(x) = x^2+\\exp x$\n",
    "\n",
    "Case 4: $f(x) = x^4$ (this does not verify the non-degeneracy hypothesis: quadratic convergence is not attained)\n",
    "\n",
    "Case 5: $f(x) = \\sqrt{1+x^2}$ (here the choice of initialization is important: for $|x|<1$ we have cubic convergence, while for $|x|\\geq 1$ the algorithm diverges)"
   ]
  },
  {
   "cell_type": "code",
   "execution_count": 3,
   "metadata": {},
   "outputs": [],
   "source": [
    "def fun(x, v):  # function definition\n",
    "    if v == 0:\n",
    "        return x**2\n",
    "    if v == 1:\n",
    "        return x**6 / 6 - x**2 / 2 + x\n",
    "    if v == 2:\n",
    "        return x**2 - np.sin(x)\n",
    "    if v == 3:\n",
    "        return x**2 + np.exp(x)\n",
    "    if v == 4:\n",
    "        return x**4\n",
    "    if v == 5:\n",
    "        return np.sqrt(1 + x**2)\n",
    "\n",
    "\n",
    "def der(x, v):  # first derivative\n",
    "    if v == 0:\n",
    "        return 2 * x\n",
    "    if v == 1:\n",
    "        return x**5 - x + 1\n",
    "    if v == 2:\n",
    "        return 2 * x - np.cos(x)\n",
    "    if v == 3:\n",
    "        return 2 * x + np.exp(x)\n",
    "    if v == 4:\n",
    "        return 4 * x**3\n",
    "    if v == 5:\n",
    "        return x / np.sqrt(1 + x**2)\n",
    "\n",
    "\n",
    "def der2(x, v):  # second derivative\n",
    "    if v == 0:\n",
    "        return 2\n",
    "    if v == 1:\n",
    "        return 5 * x**4 - 1\n",
    "    if v == 2:\n",
    "        return 2 + np.sin(x)\n",
    "    if v == 3:\n",
    "        return 2 + np.exp(x)\n",
    "    if v == 4:\n",
    "        return 12 * x**2\n",
    "    if v == 5:\n",
    "        return 1 / np.sqrt(1 + x**2)**3\n",
    "\n",
    "\n",
    "# List of optimizers for the above functions\n",
    "if v == 0:\n",
    "    analytic = 0\n",
    "if v == 1:\n",
    "    analytic = -1.1673039782614187\n",
    "if v == 2:\n",
    "    analytic = 0.45018361129487355\n",
    "if v == 3:\n",
    "    analytic = -0.35173371124919584\n",
    "if v == 4:\n",
    "    analytic = 0\n",
    "if v == 5:\n",
    "    analytic = 0"
   ]
  },
  {
   "attachments": {},
   "cell_type": "markdown",
   "metadata": {},
   "source": [
    "## Algorithm: Newton method in dimension one\n",
    "\n",
    "<div style=\"background-color:lightblue;margin:20px;padding:10px;border-radius:10px;border-width:2px;border-color:black;box-shadow:5px 5px;width:95%\">\n",
    "    \n",
    " **Initialization:** Choose the starting point $x_0$\n",
    "\n",
    " **Step $i$:** \n",
    "   - Compute $f(x_{i-1}),f'(x_{i-1}),f''(x_{i-1})$ and approximate $f$ around $x_{i-1}$ by its second-order taylor expansion\n",
    "\n",
    "$$ p(x) = f(x_{i-1})+f'(x_{i-1})(x-x_i)+\\frac{1}{2} f''(x_{i-1})(x-x_{i-1})^2.$$\n",
    "      \n",
    "   - choose $x_i$ as the minimizer of the quadratic function $p$:\n",
    "    $$ x_i = x_{i-1} - \\frac{f'(x_{i-1})}{f''(x_{i-1})}.$$\n",
    "   - replace $i$ with $i+1$ and loop\n",
    "   \n",
    "</div>\n"
   ]
  },
  {
   "cell_type": "code",
   "execution_count": 10,
   "metadata": {
    "scrolled": false
   },
   "outputs": [
    {
     "name": "stdout",
     "output_type": "stream",
     "text": [
      "Stopping criterion reached: exit the loop!\n"
     ]
    },
    {
     "name": "stderr",
     "output_type": "stream",
     "text": [
      "/var/folders/rf/3_96g3x522q394xqlyg__5l00000gn/T/ipykernel_64108/406541808.py:13: RuntimeWarning: overflow encountered in double_scalars\n",
      "  return np.sqrt(1 + x**2)\n",
      "/var/folders/rf/3_96g3x522q394xqlyg__5l00000gn/T/ipykernel_64108/406541808.py:28: RuntimeWarning: overflow encountered in double_scalars\n",
      "  return x / np.sqrt(1 + x**2)\n",
      "/var/folders/rf/3_96g3x522q394xqlyg__5l00000gn/T/ipykernel_64108/406541808.py:43: RuntimeWarning: overflow encountered in double_scalars\n",
      "  return 1 / np.sqrt(1 + x**2)**3\n",
      "/var/folders/rf/3_96g3x522q394xqlyg__5l00000gn/T/ipykernel_64108/3471926095.py:34: RuntimeWarning: invalid value encountered in double_scalars\n",
      "  newx = x0-fp/fpp      # Compute the next point\n"
     ]
    },
    {
     "data": {
      "image/png": "[encoded data removed]",
      "text/plain": [
       "<Figure size 432x288 with 1 Axes>"
      ]
     },
     "metadata": {
      "needs_background": "light"
     },
     "output_type": "display_data"
    }
   ],
   "source": [
    "# define a function that applies the Newton algorithm\n",
    "# given a function with given first and second derivatives\n",
    "\n",
    "def Newton(fun,der,der2,x0,maxit,tol=1e-6):\n",
    "\n",
    "\n",
    "    uplim = max(fun(a,v),fun(b,v))+1   # set limits for the plot window\n",
    "    dnlim = -3\n",
    "    t1 = np.linspace(a,b,100)          # Create a discretization to be used with the plots\n",
    "    plt.figure(1)\n",
    "    plt.ylim([dnlim,uplim])            # Set upper bounds for the figure\n",
    "\n",
    "    plt.plot(t1,fun(t1,v),'k')         # Plot the function to be optimized on the interval [a,b]\n",
    "    \n",
    "    vals  = []\n",
    "    vals.append(x0);            # Create a list which holds the optimization history\n",
    "\n",
    "\n",
    "\n",
    "    for i in range(0,maxit):\n",
    "    \n",
    "        # Define the Newton interpolating polynomial: see the course   \n",
    "        def interp(x):\n",
    "            return fun(x0,v)+der(x0,v)*(x-x0)+0.5*der2(x0,v)*(x-x0)**2\n",
    "        \n",
    "        fv   = fun(x0,v)\n",
    "        \n",
    "        plt.plot(x0,fv,'bo')\n",
    "        #plt.plot(t1,interp(t1),'r')        # Uncomment this if you want to see the interpolating function\n",
    "\n",
    "        fp   = der(x0,v)\n",
    "        fpp  = der2(x0,v)\n",
    "        \n",
    "        newx = x0-fp/fpp      # Compute the next point\n",
    "        plt.plot(newx,fun(newx,v),'ro')     # Plot the next point\n",
    "        #plt.rc(\"savefig\", dpi=300)         # Uncomment if you want to save a picture (not recommended in a loop)\n",
    "        vals.append(newx)       # Update the list of values\n",
    "\n",
    "        if(abs(x0-newx)/abs(x0)<tol or abs(fp)<tol):\n",
    "            print(\"Stopping criterion reached: exit the loop!\")\n",
    "            break\n",
    "        x0 = newx                 \n",
    "    return np.array(vals)\n",
    "\n",
    "# run the algorithm for one of the variants given \n",
    "vals = Newton(fun,der,der2,-1.1,200,tol=1e-6)"
   ]
  },
  {
   "cell_type": "code",
   "execution_count": 7,
   "metadata": {},
   "outputs": [
    {
     "data": {
      "image/png": "[encoded data removed]",
      "text/plain": [
       "<Figure size 432x288 with 1 Axes>"
      ]
     },
     "metadata": {
      "needs_background": "light"
     },
     "output_type": "display_data"
    }
   ],
   "source": [
    "def Newton_false_position(fun, der, x0, x1, maxit, tol=1e-6):\n",
    "    uplim = max(fun(a, v), fun(b, v)) + 1  # set limits for the plot window\n",
    "    dnlim = -3\n",
    "    t1 = np.linspace(a, b,\n",
    "                     100)  # Create a discretization to be used with the plots\n",
    "    plt.figure(1)\n",
    "    plt.ylim([dnlim, uplim])  # Set upper bounds for the figure\n",
    "\n",
    "    plt.plot(t1, fun(t1, v),\n",
    "             'k')  # Plot the function to be optimized on the interval [a,b]\n",
    "\n",
    "    x_list = []\n",
    "\n",
    "    x_list.append(x0)\n",
    "    x_list.append(x1)\n",
    "\n",
    "    for i in range(0, maxit):\n",
    "\n",
    "        def interp(x):\n",
    "            return fun(x1, v) + der(x1, v) * (x - x1) + 0.5 * (\n",
    "                der(x1, v) - der(x0, v)) / (x1 - x0) * (x - x1)**2\n",
    "            \n",
    "        fv = fun(x1, v)\n",
    "        plt.plot(x1, fv, 'bo')\n",
    "        \n",
    "        fp = der(x0, v)\n",
    "        fpp = der(x1, v)\n",
    "\n",
    "        tmp = x1\n",
    "        newx1 = x1 - fpp * (x1 - x0) / (fpp - fp)  # Compute the next point\n",
    "        plt.plot(newx1, fun(newx1, v), 'ro')  # Plot the next point\n",
    "        #plt.rc(\"savefig\", dpi=300)         # Uncomment if you want to save a picture (not recommended in a loop)\n",
    "        x_list.append(newx1)  # Update the list of values\n",
    "\n",
    "        if (abs(x0 - newx1) / abs(x0) < tol or abs(fp) < tol):\n",
    "            print(\"Stopping criterion reached: exit the loop!\")\n",
    "            break\n",
    "        x0 = newx1\n",
    "    return np.array(vals)\n",
    "        \n",
    "vals_newton_false = Newton_false_position(fun, der, -1.6, 2.0, 200, tol=1e-6)"
   ]
  },
  {
   "cell_type": "markdown",
   "metadata": {},
   "source": [
    "After the optimization loop, the convergence history and the order of convergence is computed. For each one of the functions a value $x^*$ close to the analytical solution is provided. The order of convergence is obtained by plotting the ratio of two consecutive errors $\\displaystyle\\frac{|x_{n+1}-x^*|}{|x_n-x^*|}$ in log-log scale."
   ]
  },
  {
   "cell_type": "code",
   "execution_count": 8,
   "metadata": {
    "scrolled": false
   },
   "outputs": [
    {
     "name": "stdout",
     "output_type": "stream",
     "text": [
      "Solution Found: 0.0\n"
     ]
    },
    {
     "data": {
      "image/png": "[encoded data removed]",
      "text/plain": [
       "<Figure size 432x288 with 1 Axes>"
      ]
     },
     "metadata": {
      "needs_background": "light"
     },
     "output_type": "display_data"
    }
   ],
   "source": [
    "print(\"Solution Found:\",vals[-1])          # Print the solution\n",
    "#print(\"History:\")                    # Print the values of the function throughout the optimization\n",
    "#for i in range(0,vals.size):\n",
    "#    print(i,\" \",vals[i])\n",
    "\n",
    "dis = np.linspace(1,Niter,Niter)   # Error analysis     \n",
    "errors = abs(vals-analytic)          # Compute differences between current points and the optimum\n",
    "if(dis.size>10):\n",
    "    dis2 = dis[0:10]\n",
    "else:\n",
    "    dis2 = dis\n",
    "sq  = 0.1**dis2                      # Construct curve of order 1\n",
    "sq2 = 10*sq**2                      # Construct curve of order 2\n",
    "sq3 = 100*sq**3                      # Construct curve of order 3\n",
    "lam = (np.sqrt(5)+1)/2\n",
    "\n",
    "sqlam = 100*sq**lam                      # Construct curve of order 3\n",
    "\n",
    "\n",
    "\n",
    "plt.figure(2)\n",
    "plt.loglog(errors[:-1:],errors[1:],label='Errors')  # Plot the errors in log-log plot\n",
    "\n",
    "plt.loglog(sq,sq,label='Order 1')\n",
    "plt.loglog(sq,sq2,label='Order 2')                  # Plot order curves for comparison\n",
    "plt.loglog(sq,sq3,label='Order 3')\n",
    "plt.loglog(sq,sqlam,label='Order lambda')\n",
    "\n",
    "plt.legend(loc='best', shadow=True, fontsize='large')  # Show legend\n",
    "#plt.savefig('ConvOrder.png',dpi=300)\n",
    "plt.show()                                          # Show plot"
   ]
  },
  {
   "cell_type": "code",
   "execution_count": 9,
   "metadata": {},
   "outputs": [
    {
     "name": "stdout",
     "output_type": "stream",
     "text": [
      "Solution Found: 0.0\n"
     ]
    },
    {
     "data": {
      "image/png": "[encoded data removed]",
      "text/plain": [
       "<Figure size 432x288 with 1 Axes>"
      ]
     },
     "metadata": {
      "needs_background": "light"
     },
     "output_type": "display_data"
    }
   ],
   "source": [
    "print(\"Solution Found:\", vals_newton_false[-1])  # Print the solution\n",
    "#print(\"History:\")                    # Print the values of the function throughout the optimization\n",
    "#for i in range(0,vals.size):\n",
    "#    print(i,\" \",vals[i])\n",
    "\n",
    "dis = np.linspace(1, Niter, Niter)  # Error analysis\n",
    "errors = abs(\n",
    "    vals_newton_false -\n",
    "    analytic)  # Compute differences between current points and the optimum\n",
    "if (dis.size > 10):\n",
    "    dis2 = dis[0:10]\n",
    "else:\n",
    "    dis2 = dis\n",
    "sq = 0.1**dis2  # Construct curve of order 1\n",
    "sq2 = 10 * sq**2  # Construct curve of order 2\n",
    "sq3 = 100 * sq**3  # Construct curve of order 3\n",
    "lam = (np.sqrt(5) + 1) / 2\n",
    "\n",
    "sqlam = 100 * sq**lam  # Construct curve of order 3\n",
    "\n",
    "plt.figure(2)\n",
    "plt.loglog(errors[:-1:], errors[1:],\n",
    "           label='Errors')  # Plot the errors in log-log plot\n",
    "\n",
    "plt.loglog(sq, sq, label='Order 1')\n",
    "plt.loglog(sq, sq2, label='Order 2')  # Plot order curves for comparison\n",
    "plt.loglog(sq, sq3, label='Order 3')\n",
    "plt.loglog(sq, sqlam, label='Order lambda')\n",
    "\n",
    "plt.legend(loc='best', shadow=True, fontsize='large')  # Show legend\n",
    "#plt.savefig('ConvOrder.png',dpi=300)\n",
    "plt.show()  # Show plot\n"
   ]
  },
  {
   "cell_type": "code",
   "execution_count": null,
   "metadata": {},
   "outputs": [],
   "source": []
  },
  {
   "cell_type": "code",
   "execution_count": null,
   "metadata": {},
   "outputs": [],
   "source": []
  }
 ],
 "metadata": {
  "celltoolbar": "Raw Cell Format",
  "kernelspec": {
   "display_name": "Python 3",
   "language": "python",
   "name": "python3"
  },
  "language_info": {
   "codemirror_mode": {
    "name": "ipython",
    "version": 3
   },
   "file_extension": ".py",
   "mimetype": "text/x-python",
   "name": "python",
   "nbconvert_exporter": "python",
   "pygments_lexer": "ipython3",
   "version": "3.9.7"
  }
 },
 "nbformat": 4,
 "nbformat_minor": 2
}
