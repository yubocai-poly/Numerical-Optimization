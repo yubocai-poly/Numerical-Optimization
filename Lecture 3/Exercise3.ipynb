{
 "cells": [
  {
   "attachments": {},
   "cell_type": "markdown",
   "metadata": {},
   "source": [
    "## Exercise 3 - Minimal paths again (Bonus)\n",
    "\n",
    "---\n",
    "\n",
    "```python\n",
    "Auther = 'Yubo Cai'\n",
    "Email = 'yubo.cai@polytechnique.edu'\n",
    "\n",
    "-------------------------------\n",
    "\n",
    "List of Work: Exercise 3\n",
    "- Question 1 - problem finished\n",
    "- Question 2 - problem finished\n",
    "```\n",
    "\n",
    "<div style=\"background-color:lightblue;margin:20px;padding:10px;border-radius:10px;border-width:2px;border-color:black;box-shadow:5px 5px;width:95%\">\n",
    "\n",
    "**Question 1**\n",
    "\n",
    "**(Path of a light beam)** It is known that the light always follows the fastest path when traveling between two points. However, its speed is influenced by the medium in which it travels. Suppose that the speed of light in is $v_{a}=299700000$ meters per second. It is known that light travels slower in water and the speed of light in water is about 1.3 smaller than $v_{a}$. \n",
    "\n",
    "Suppose you have a light bulb at the point $(0,1)$ and the water level is the line $y=0$. Draw the path of the light from $(0,1)$ to various points on the line $y=-1$.\n",
    "\n",
    "A person looks to the water from the point $(0,1)$ and looks at an object modeled by the segment $[1,2] \\times\\{-1\\}$. What is the apparent position of the object at the surface of the water?\n",
    "\n",
    "</div>"
   ]
  },
  {
   "attachments": {},
   "cell_type": "markdown",
   "metadata": {},
   "source": [
    "<table>\n",
    "<tr>   \n",
    "<td bgcolor = lightblue ><font color = white >Answer to Question 1</td>\n",
    "</tr>\n",
    "</table>\n",
    "\n",
    "---\n",
    "\n",
    "We build the model of the light beam. We denote the point in $y=-1$ is $A(a,-1)$ and the point in $y=0$ is $B(x,0)$. The light beam is the path from $(0,1)$ to $B$ and from $B$ to $A$. We have the condition that $x \\in [0, m)$. Since the whole model is symmetric, we only consider $x \\in [0, \\infty)$.\n",
    "\n",
    "We have the following equations:\n",
    "$$\n",
    "distance = \\sqrt{x^2 + 1} + \\sqrt{(a-x)^2 + 1}\n",
    "$$\n",
    "However, the time of the light beam is the distance divided by the speed of light. We have the following equations:\n",
    "$$\n",
    "T = \\frac{\\sqrt{x^2 + 1}}{v_a} + \\frac{1.3\\sqrt{(a-x)^2 + 1}}{v_a} = \\frac{\\sqrt{x^2 + 1} + 1.3 \\sqrt{(a-x)^2 + 1}}{v_a}\n",
    "$$\n",
    "Then we try to minimize the time $T= \\sqrt{x^2 + 1} + 1.3 \\sqrt{(a-x)^2 + 1}$, we take the derivative of $T$ with respect to $x$ and set it to zero:\n",
    "$$\n",
    "\\frac{d T}{d x}=\\frac{x}{\\sqrt{x^2+1}}-1.3 \\frac{a-x}{\\sqrt{(a-x)^2+1}}=0\n",
    "$$\n",
    "Following part, we can use python to solve the equation and plot the path of the light beam.\n",
    "\n",
    "---"
   ]
  },
  {
   "cell_type": "code",
   "execution_count": 1,
   "metadata": {},
   "outputs": [],
   "source": [
    "import numpy as np\n",
    "from matplotlib import pyplot as plt\n",
    "import sympy as sym\n",
    "from math import *"
   ]
  },
  {
   "cell_type": "code",
   "execution_count": 52,
   "metadata": {},
   "outputs": [
    {
     "name": "stdout",
     "output_type": "stream",
     "text": [
      "     fun: 4.999848245327537\n",
      " message: 'Solution found.'\n",
      "    nfev: 10\n",
      "  status: 0\n",
      " success: True\n",
      "       x: 2.9375225408799914\n"
     ]
    }
   ],
   "source": [
    "from scipy.optimize import minimize_scalar\n",
    "\n",
    "def f(x, a):\n",
    "    return sqrt(x**2 + 1) + 1.3 * sqrt((a-x)**2 + 1)\n",
    "\n",
    "a = 4  # example value\n",
    "res = minimize_scalar(lambda x: f(x, a), method='bounded', bounds=(0, a))\n",
    "x_opt = res.x\n",
    "print(res)"
   ]
  },
  {
   "cell_type": "code",
   "execution_count": 78,
   "metadata": {},
   "outputs": [
    {
     "data": {
      "image/png": "[encoded data removed]",
      "text/plain": [
       "<Figure size 720x504 with 1 Axes>"
      ]
     },
     "metadata": {
      "needs_background": "light"
     },
     "output_type": "display_data"
    }
   ],
   "source": [
    "fig, ax = plt.subplots(figsize=(10, 7))\n",
    "plt.title('Optimal value of x')\n",
    "ax.set_xlim([-7, 7])\n",
    "ax.set_ylim([-5, 5])\n",
    "\n",
    "ax.axhline(y=0, color='black', linewidth=1)\n",
    "ax.axvline(x=0, color='black', linewidth=1)\n",
    "ax.axhline(y=-1, color='green', linewidth=1, label='y=-1')\n",
    "ax.axhspan(-1, 0.0, facecolor='lightblue', alpha=0.5)\n",
    "\n",
    "ax.plot([0, x_opt], [1, 0], 'r', label='Path 1')  # path from (0,1) to (x,0)\n",
    "ax.plot([x_opt, a], [0, -1], 'g', label='Path 2')  # path from (x,0) to (a,-1)\n",
    "ax.plot(*point1, 'bo', label='O (0, 1)')  # point (0,1)\n",
    "ax.plot(*point2, 'bo', label=\"A ({:.2f}, 0)\".format(x_opt))  # point (x,0)\n",
    "ax.plot(*point3, 'bo', label=\"B ({}, -1)\".format(a))  # point (a,-1)\n",
    "ax.text(0.4, 1.1, \"O (0, 1)\", fontsize=13)\n",
    "ax.text(x_opt + 0.2, 0.2, \"A ({:.2f}, 0)\".format(x_opt), fontsize=13)\n",
    "ax.text(a - 0.2, -1.4, \"B ({}, -1)\".format(a), fontsize=13)\n",
    "xlabel = ax.set_xlabel('x', fontsize=15)\n",
    "ylabel = ax.set_ylabel('y', fontsize=15)\n",
    "ax.plot([point1[0], point2[0], point3[0]], [point1[1], point2[1], point3[1]],\n",
    "        'bo--')  # connecting lines\n",
    "ax.set_aspect('equal')\n",
    "ax.legend()\n",
    "plt.show()"
   ]
  },
  {
   "attachments": {},
   "cell_type": "markdown",
   "metadata": {},
   "source": [
    "<div style=\"background-color:lightblue;margin:20px;padding:10px;border-radius:10px;border-width:2px;border-color:black;box-shadow:5px 5px;width:95%\">\n",
    "\n",
    "**Question 2**\n",
    "\n",
    "Frodo and Sam need to travel 100 leagues due East from point A to point B. On normal terrain, they can cover 10 leagues per day, and so the journey would take 10 days. However, their path is crossed by a long marsh which runs exactly South-West to North-East, and walking through the marsh will slow them down. The marsh is 50 leagues wide at all points, and the mid-point of AB is located in the middle of the marsh. A map of the region is shown in the diagram below:\n",
    "\n",
    "![avatar](https://projecteuler.net/project/images/p607_marsh.png)\n",
    "\n",
    "The marsh consists of 5 distinct regions, each 10 leagues across, as shown by the shading in the map. The strip closest to point A is relatively light marsh, and can be crossed at a speed of 9 leagues per day. However, each strip becomes progressively harder to navigate, the speeds going down to 8, 7, 6 and finally 5 leagues per day for the final region of marsh, before it ends and the terrain becomes easier again, with the speed going back to 10 leagues per day.\n",
    "\n",
    "If Frodo and Sam were to head directly East for point B, they would travel exactly 100 leagues, and the journey would take approximately 13.4738 days. However, this time can be shortened if they deviate from the direct path.\n",
    "\n",
    "Find the shortest possible time required to travel from point A to B, and give your answer in days, rounded to 10 decimal places.\n",
    "\n",
    "</div>"
   ]
  },
  {
   "cell_type": "code",
   "execution_count": 107,
   "metadata": {},
   "outputs": [
    {
     "name": "stdout",
     "output_type": "stream",
     "text": [
      "Warning: Desired error not necessarily achieved due to precision loss.\n",
      "         Current function value: 13.126511\n",
      "         Iterations: 55\n",
      "         Function evaluations: 614\n",
      "         Gradient evaluations: 86\n",
      "----------------------------------------\n",
      "The optimal date is 13.1265108586\n"
     ]
    }
   ],
   "source": [
    "from scipy.optimize import minimize\n",
    "import numpy as np\n",
    "\n",
    "L = 100 / np.sqrt(2)\n",
    "P = (L - 50) / 2\n",
    "\n",
    "\n",
    "def dist(x1, y1, x2, y2):\n",
    "    return np.sqrt((x1 - x2)**2 + (y1 - y2)**2)\n",
    "\n",
    "\n",
    "def time(x):\n",
    "    result = dist(0, 0, x[0], P) / 10\n",
    "    result += dist(x[5], 0, L, P) / 10\n",
    "    for i in range(5):\n",
    "        result += dist(x[i], 0, x[i + 1], 10) / (9 - i)\n",
    "    return result\n",
    "\n",
    "\n",
    "x0 = [P + (10 / np.sqrt(2)) * i for i in range(6)]\n",
    "\n",
    "# now we use gradient descent to minimize the time\n",
    "res = minimize(time, x0, method='BFGS', options={'disp': True}, tol=1e-20)\n",
    "print('--' * 20)\n",
    "print('The optimal date is', \"{0:.10f}\".format(res.fun))"
   ]
  },
  {
   "cell_type": "code",
   "execution_count": 152,
   "metadata": {},
   "outputs": [
    {
     "name": "stdout",
     "output_type": "stream",
     "text": [
      "The optimal date is 13.1265108586 days with method of gradient descent\n"
     ]
    }
   ],
   "source": [
    "# method without using the library\n",
    "# minimize with gradient descent\n",
    "import numpy as np\n",
    "\n",
    "\n",
    "def duration(points):\n",
    "    speed = [10, 9, 8, 7, 6, 5, 10]\n",
    "    duration = 0\n",
    "    for i in range(0, len(speed)):\n",
    "        distance = ((points[i + 1, 0] - points[i, 0])**2 +\n",
    "                    (points[i + 1, 1] - points[i, 1])**2)**0.5\n",
    "        duration += distance / speed[i]\n",
    "    return duration\n",
    "\n",
    "\n",
    "def gradient_function(points):\n",
    "    speed = [10, 9, 8, 7, 6, 5, 10]\n",
    "    gradient = 0\n",
    "    for i in range(0, len(speed)):\n",
    "        gradient += ((points[i + 1, 0] - points[i, 0]) /\n",
    "                     (speed[i] * ((points[i + 1, 0] - points[i, 0])**2 +\n",
    "                                  (points[i + 1, 1] - points[i, 1])**2)**0.5))\n",
    "    return gradient\n",
    "\n",
    "\n",
    "def gradient_descent(points, delta):\n",
    "    old_Duration = duration(points)\n",
    "    new_Duration = old_Duration - delta * gradient_function(points)\n",
    "    if myrand() > 0:\n",
    "        delta = -delta\n",
    "    id = int(random.random() * 6) + 1\n",
    "    points[id, 0] += delta\n",
    "    new_Duration = old_Duration - 1.05 * delta * gradient_function(points)\n",
    "    if (duration(points) >= old_Duration):\n",
    "        points[id, 0] -= delta\n",
    "        new_Duration = old_Duration - 0.95 * delta * gradient_function(points)\n",
    "    return new_Duration\n",
    "\n",
    "\n",
    "def frange(start, stop, step):\n",
    "    i = start\n",
    "    while i >= stop:\n",
    "        yield i\n",
    "        i /= step\n",
    "    return step\n",
    "\n",
    "\n",
    "# Calculate the Minimum Days\n",
    "def min_days():\n",
    "    normal_terrain = ((100 / np.sqrt(2) - 50) / 2)\n",
    "    marsh = 10.\n",
    "    ini_xy = [\n",
    "        0., normal_terrain, marsh, marsh, marsh, marsh, marsh, normal_terrain\n",
    "    ]\n",
    "    y_coords = []\n",
    "    x_coords = []\n",
    "    k = 0\n",
    "    for i in range(0, len(ini_xy)):\n",
    "        k += ini_xy[i]\n",
    "        y_coords.append(k)\n",
    "        x_coords.append(k)\n",
    "    points = (np.stack((x_coords, y_coords), axis=-1))\n",
    "\n",
    "    for delta in frange(1e-2, 1e-20, 10):\n",
    "        for i in range(10000):\n",
    "            gradient_descent(points, delta)\n",
    "    min_days = gradient_descent(points, delta)\n",
    "    return min_days, points\n",
    "\n",
    "\n",
    "answer, points = min_days()\n",
    "print('The optimal date is', \"{0:.10f}\".format(answer),\n",
    "      'days with method of gradient descent')\n"
   ]
  },
  {
   "cell_type": "code",
   "execution_count": 181,
   "metadata": {},
   "outputs": [
    {
     "name": "stdout",
     "output_type": "stream",
     "text": [
      "The total distance is 102.1345806294\n"
     ]
    }
   ],
   "source": [
    "# compute the total distance\n",
    "def total_distance(points):\n",
    "    distance = 0\n",
    "    for i in range(0, len(points) - 1):\n",
    "        distance += ((points[i + 1, 0] - points[i, 0])**2 +\n",
    "                     (points[i + 1, 1] - points[i, 1])**2)**0.5\n",
    "    return distance\n",
    "  \n",
    "print('The total distance is', \"{0:.10f}\".format(total_distance(points)))"
   ]
  },
  {
   "cell_type": "code",
   "execution_count": 155,
   "metadata": {},
   "outputs": [
    {
     "data": {
      "text/html": [
       "<div>\n",
       "<style scoped>\n",
       "    .dataframe tbody tr th:only-of-type {\n",
       "        vertical-align: middle;\n",
       "    }\n",
       "\n",
       "    .dataframe tbody tr th {\n",
       "        vertical-align: top;\n",
       "    }\n",
       "\n",
       "    .dataframe thead th {\n",
       "        text-align: right;\n",
       "    }\n",
       "</style>\n",
       "<table border=\"1\" class=\"dataframe\">\n",
       "  <thead>\n",
       "    <tr style=\"text-align: right;\">\n",
       "      <th></th>\n",
       "      <th>y</th>\n",
       "      <th>x</th>\n",
       "    </tr>\n",
       "  </thead>\n",
       "  <tbody>\n",
       "    <tr>\n",
       "      <th>0</th>\n",
       "      <td>0.000000</td>\n",
       "      <td>0.000000</td>\n",
       "    </tr>\n",
       "    <tr>\n",
       "      <th>1</th>\n",
       "      <td>16.121184</td>\n",
       "      <td>10.355339</td>\n",
       "    </tr>\n",
       "    <tr>\n",
       "      <th>2</th>\n",
       "      <td>27.714991</td>\n",
       "      <td>20.355339</td>\n",
       "    </tr>\n",
       "    <tr>\n",
       "      <th>3</th>\n",
       "      <td>36.816454</td>\n",
       "      <td>30.355339</td>\n",
       "    </tr>\n",
       "    <tr>\n",
       "      <th>4</th>\n",
       "      <td>44.104148</td>\n",
       "      <td>40.355339</td>\n",
       "    </tr>\n",
       "    <tr>\n",
       "      <th>5</th>\n",
       "      <td>49.952299</td>\n",
       "      <td>50.355339</td>\n",
       "    </tr>\n",
       "    <tr>\n",
       "      <th>6</th>\n",
       "      <td>54.589479</td>\n",
       "      <td>60.355339</td>\n",
       "    </tr>\n",
       "    <tr>\n",
       "      <th>7</th>\n",
       "      <td>70.710678</td>\n",
       "      <td>70.710678</td>\n",
       "    </tr>\n",
       "  </tbody>\n",
       "</table>\n",
       "</div>"
      ],
      "text/plain": [
       "           y          x\n",
       "0   0.000000   0.000000\n",
       "1  16.121184  10.355339\n",
       "2  27.714991  20.355339\n",
       "3  36.816454  30.355339\n",
       "4  44.104148  40.355339\n",
       "5  49.952299  50.355339\n",
       "6  54.589479  60.355339\n",
       "7  70.710678  70.710678"
      ]
     },
     "execution_count": 155,
     "metadata": {},
     "output_type": "execute_result"
    }
   ],
   "source": [
    "import pandas as pd\n",
    "df = pd.DataFrame(points, columns=['y', 'x'])\n",
    "df"
   ]
  },
  {
   "attachments": {},
   "cell_type": "markdown",
   "metadata": {},
   "source": [
    "Then we take the original point as $A(0,0)$ and the destination point as $B(50\\sqrt{2},50\\sqrt{2})$. Then we can have the following graph, we rotate the graph by $45^{\\circ}$ and then we can have the following graph:"
   ]
  },
  {
   "cell_type": "code",
   "execution_count": 180,
   "metadata": {},
   "outputs": [
    {
     "data": {
      "image/png": "[encoded data removed]",
      "text/plain": [
       "<Figure size 1152x792 with 1 Axes>"
      ]
     },
     "metadata": {
      "needs_background": "light"
     },
     "output_type": "display_data"
    }
   ],
   "source": [
    "x = df['x'].values\n",
    "y = df['y'].values\n",
    "\n",
    "fig, ax = plt.subplots(figsize=(16, 11))\n",
    "plt.title('Optimal path of the question')\n",
    "plt.xlabel('x', fontsize=15)\n",
    "plt.ylabel('y', fontsize=15)\n",
    "ax.set_xlim([-10, 80])\n",
    "ax.set_ylim([-10, 80])\n",
    "\n",
    "ax.axhline(y=0, color='black', linewidth=1)\n",
    "ax.axvline(x=0, color='black', linewidth=1)\n",
    "ax.axvline(x=x[1], color='black', linewidth=1)\n",
    "ax.axvline(x=x[2], color='black', linewidth=1)\n",
    "ax.axvline(x=x[3], color='black', linewidth=1)\n",
    "ax.axvline(x=x[4], color='black', linewidth=1)\n",
    "ax.axvline(x=x[5], color='black', linewidth=1)\n",
    "ax.axvline(x=x[6], color='black', linewidth=1)\n",
    "ax.axvspan(x[1], x[2], facecolor='lightblue', alpha=0.5, label=r'Zone 1 with speed $v=9$')\n",
    "ax.axvspan(x[2], x[3], facecolor='lightgreen', alpha=0.5, label=r'Zone 2 with speed $v=8$')\n",
    "ax.axvspan(x[3], x[4], facecolor='lightgrey', alpha=0.5, label=r'Zone 3 with speed $v=7$')\n",
    "ax.axvspan(x[4], x[5], facecolor='yellow', alpha=0.5, label=r'Zone 4 with speed $v=6$')\n",
    "ax.axvspan(x[5], x[6], facecolor='orange', alpha=0.5, label=r'Zone 5 with speed $v=5$')\n",
    "\n",
    "ax.plot([0, x[1]], [0, y[1]], 'r')\n",
    "ax.plot([x[1], x[2]], [y[1], y[2]], 'r')\n",
    "ax.plot([x[2], x[3]], [y[2], y[3]], 'r')\n",
    "ax.plot([x[3], x[4]], [y[3], y[4]], 'r')\n",
    "ax.plot([x[4], x[5]], [y[4], y[5]], 'r')\n",
    "ax.plot([x[5], x[6]], [y[5], y[6]], 'r')\n",
    "ax.plot([x[6], x[7]], [y[6], y[7]], 'r')\n",
    "\n",
    "ax.plot(0, 0, 'bo', label='A - Starting Point')\n",
    "ax.plot(x[1], y[1], 'bo')\n",
    "ax.plot(x[2], y[2], 'bo')\n",
    "ax.plot(x[3], y[3], 'bo')\n",
    "ax.plot(x[4], y[4], 'bo')\n",
    "ax.plot(x[5], y[5], 'bo')\n",
    "ax.plot(x[6], y[6], 'bo')\n",
    "ax.plot(x[7], y[7], 'bo', label='B - Destination Point')\n",
    "\n",
    "ax.text(-5.4, 1.1, \"A (0, 0)\", fontsize=13)\n",
    "ax.text(x[7] - 2, y[7] - 5, r'$B (50\\sqrt{2}, 50\\sqrt{2})$', fontsize=13)\n",
    "\n",
    "ax.legend()\n",
    "plt.show()\n"
   ]
  }
 ],
 "metadata": {
  "kernelspec": {
   "display_name": "base",
   "language": "python",
   "name": "python3"
  },
  "language_info": {
   "codemirror_mode": {
    "name": "ipython",
    "version": 3
   },
   "file_extension": ".py",
   "mimetype": "text/x-python",
   "name": "python",
   "nbconvert_exporter": "python",
   "pygments_lexer": "ipython3",
   "version": "3.9.7"
  },
  "orig_nbformat": 4
 },
 "nbformat": 4,
 "nbformat_minor": 2
}
