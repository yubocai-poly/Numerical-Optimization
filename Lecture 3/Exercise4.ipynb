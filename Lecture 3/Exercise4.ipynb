{
 "cells": [
  {
   "attachments": {},
   "cell_type": "markdown",
   "metadata": {},
   "source": [
    "## Exercise 4 - Explicit computation of the optimum (Bonus)\n",
    "\n",
    "---\n",
    "\n",
    "```python\n",
    "Auther = 'Yubo Cai'\n",
    "Email = 'yubo.cai@polytechnique.edu'\n",
    "\n",
    "-------------------------------\n",
    "\n",
    "List of Work: Exercise 4\n",
    "- Question 1 - problem finished\n",
    "- Question 2 - problem finished\n",
    "- Question 3 - problem finished\n",
    "- Question 4 - problem finished\n",
    "- Question 5 - problem finished\n",
    "```"
   ]
  },
  {
   "attachments": {},
   "cell_type": "markdown",
   "metadata": {},
   "source": [
    "<div style=\"background-color:lightblue;margin:20px;padding:10px;border-radius:10px;border-width:2px;border-color:black;box-shadow:5px 5px;width:95%\">\n",
    "\n",
    "1. minimize $f(x, y)=\\frac{12}{x}+\\frac{18}{y}+x y$ on $(0, \\infty)^{2}$\n",
    "\n",
    "2. maximize $f(x, y)=x y(72-3 x-4 y)$\n",
    "\n",
    "3. minimize $f(x, y)=4 x+\\frac{x}{y^{2}}+\\frac{4 y}{x}$ on $(0, \\infty)^{2}$\n",
    "\n",
    "4. maximize $f(x, y, z)=2 x+3 y+6 z$ when $x^{2}+y^{2}+z^{2}=1$\n",
    "\n",
    "5. maximize $f(x, y, z)=2 x+3 y+6 z$ when $x^{p}+y^{p}+z^{p}=1, p>1$.\n",
    "\n",
    "</div>"
   ]
  },
  {
   "attachments": {},
   "cell_type": "markdown",
   "metadata": {},
   "source": [
    "<table>\n",
    "<tr>   \n",
    "<td bgcolor = lightblue ><font color = white >Answer</td>\n",
    "</tr>\n",
    "</table>\n",
    "\n",
    "---\n",
    "\n",
    "1. Since we are dealing with positive numbers apply AM-GM:\n",
    "    $$\n",
    "    \\frac{12}{x}+\\frac{18}{y}+x y \\geq 3 \\cdot\\left(\\frac{12}{x} \\frac{18}{y} x y\\right)^{1 / 3}=3 \\cdot 6=18 .\n",
    "    $$\n",
    "    Therefore the lower bound of the above expression is 18 and it is attained when $\\frac{12}{x}=\\frac{18}{y}=x y$ leading to $x=2, y=3$.\n",
    "\n",
    "2. We have $f(x, y)=x y(72-3 x-4 y) = \\frac{3x \\cdot 4y (72-3x-4y)}{12}$. Then we apply the **AM-GM** in order to compute the minimal value. We denote $u=3x$ and $v=4y$ and $u+v+w=72$. Then we have\n",
    "    $$\n",
    "    f(x,y) \\leq \\frac{1}{12} (\\frac{u+v+w}{3})^{3} = \\frac{24^3}{12} = 1152\n",
    "    $$\n",
    "    with equality when $u=v=w=24$. Therefore the maximum value is attained when $x=8$ and $y=6$.\n",
    "\n",
    "3. To apply the **AM-GM method**, we need to rewrite the given function $f(x,y)$ as the sum of terms that involve only one of the variables $x$ or $y$, and then use the AM-GM inequality to find a lower bound on $f(x,y)$.\n",
    "\n",
    "    Then we can resriting the function:\n",
    "    $$\n",
    "    \\begin{aligned}\n",
    "    f(x, y) &= 4 x+\\frac{x}{y^{2}}+\\frac{4 y}{x} \\\\ \n",
    "    &= 4x + \\frac{2x}{2y^{2}} + \\frac{2y}{x} + \\frac{2y}{x} \\\\\n",
    "    &\\geq \\sqrt[4]{4 x \\cdot \\frac{2 x}{2 y^2} \\cdot \\frac{2 y}{x} \\cdot \\frac{2 y}{x}}\\\\\n",
    "    &= 2\\\\\n",
    "    \\end{aligned}\n",
    "    $$\n",
    "    where the equality is attained when $x=y=\\frac{1}{2}$ with minimal value $f(x,y)_{min}=f(\\frac{1}{2},\\frac{1}{2})=8$.\n",
    "\n",
    "\n",
    "4. We use Cauchy-Schwarz inequality to compute the maximum value of $f(x, y, z)$:\n",
    "    $$\n",
    "    f(x, y, z) \\leq \\sqrt{2^{2}+3^{2}+6^{2}} \\cdot \\sqrt{x^{2}+y^{2}+z^{2}} = 7.\n",
    "    $$\n",
    "    with the equality of $(x,y,z)$ and $(2,3,6)$ are colinear.\n",
    "\n",
    "5. We apply the **Hölder’s inequality**. Since we know that $x^{p}+y^{p}+z^{p}=1, p>1$ and we have the vector of $(2,3,6)$ and $(x,y,z)$, therefore, we have \n",
    "    $$\n",
    "    \\begin{aligned}\n",
    "    f(x, y, z)&=2 x+3 y+6 z \\\\\n",
    "    &\\leq \\sqrt[p]{2^{p}+3^{p}+6^{p}} \\cdot \\sqrt{x^{p}+y^{p}+z^{p}} \\\\\n",
    "    &\\leq \\sqrt[p]{2^{p}+3^{p}+6^{p}} \n",
    "    \\end{aligned}\n",
    "    $$\n",
    "    with the equality of $(x,y,z)$ and $(2,3,6)$ are colinear.\n",
    "\n",
    "---"
   ]
  }
 ],
 "metadata": {
  "kernelspec": {
   "display_name": "base",
   "language": "python",
   "name": "python3"
  },
  "language_info": {
   "codemirror_mode": {
    "name": "ipython",
    "version": 3
   },
   "file_extension": ".py",
   "mimetype": "text/x-python",
   "name": "python",
   "nbconvert_exporter": "python",
   "pygments_lexer": "ipython3",
   "version": "3.9.7"
  },
  "orig_nbformat": 4
 },
 "nbformat": 4,
 "nbformat_minor": 2
}
