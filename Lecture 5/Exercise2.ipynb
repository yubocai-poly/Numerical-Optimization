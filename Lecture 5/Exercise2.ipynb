{
 "cells": [
  {
   "attachments": {},
   "cell_type": "markdown",
   "metadata": {},
   "source": [
    "## Exercise 2 - The Conjugate Gradient algorithm\n",
    "\n",
    "---\n",
    "\n",
    "```python\n",
    "Auther = 'Yubo Cai'\n",
    "Email = 'yubo.cai@polytechnique.edu'\n",
    "```\n",
    "\n",
    "<div style=\"background-color:lightblue;margin:20px;padding:10px;border-radius:10px;border-width:2px;border-color:black;box-shadow:5px 5px;width:95%\">\n",
    "\n",
    "In the following $A$ is a symmetric, positive-definite matrix and $f$ is the usual quadratic function $f(x)=\\frac{1}{2} x^T A x-b^T x$. Recall that the solution of this problem is the solution of the system $A x=b$.\n",
    "\n",
    "**Question 1**\n",
    "\n",
    "Implement the Gram-Schmidt algorithm which can produce a basis of $A$-orthogonal vectors starting from a basis of $\\mathbb{R}^n$. Using this basis of $A$-orthogonal vectors compute the inverse of $A$, as shown in the course.\n",
    "</div>"
   ]
  },
  {
   "cell_type": "code",
   "execution_count": 12,
   "metadata": {},
   "outputs": [],
   "source": [
    "import scipy.optimize as scopt\n",
    "import numpy as np\n",
    "import pylab as pl\n",
    "from ipywidgets import *\n",
    "import matplotlib.pyplot as plt\n",
    "import sympy as sp"
   ]
  },
  {
   "cell_type": "code",
   "execution_count": 23,
   "metadata": {},
   "outputs": [],
   "source": [
    "def gramschmidt(A):\n",
    "    \"\"\"\n",
    "    Applies the Gram-Schmidt method to A\n",
    "    and returns Q and R, so Q*R = A.\n",
    "    \"\"\"\n",
    "    m, n = A.shape\n",
    "    Q = np.zeros((m, n))\n",
    "    R = np.zeros((n, n))\n",
    "    for j in range(n):\n",
    "        v = A[:, j]\n",
    "        for i in range(j):\n",
    "            q = Q[:, i]\n",
    "            R[i, j] = np.dot(q, v)\n",
    "            v = v - R[i, j]*q\n",
    "        R[j, j] = np.linalg.norm(v)\n",
    "        Q[:, j] = v/R[j, j]\n",
    "    return Q, R"
   ]
  },
  {
   "cell_type": "code",
   "execution_count": 39,
   "metadata": {},
   "outputs": [
    {
     "name": "stdout",
     "output_type": "stream",
     "text": [
      "Q = \n",
      " [[ 0.          0.85749293 -0.51449576]\n",
      " [ 0.6        -0.4115966  -0.68599434]\n",
      " [ 0.8         0.30869745  0.51449576]]\n",
      "--------------------------------------------------\n",
      "The orthonormal basis of A is:\n",
      "q1 =  [0.  0.6 0.8]\n",
      "q2 =  [ 0.85749293 -0.4115966   0.30869745]\n",
      "q3 =  [-0.51449576 -0.68599434  0.51449576]\n",
      "--------------------------------------------------\n",
      "R = \n",
      " [[5.         0.8        3.        ]\n",
      " [0.         1.16619038 1.37198868]\n",
      " [0.         0.         0.34299717]]\n",
      "--------------------------------------------------\n",
      "The QR decomposition of A is: [[0.00000000e+00 1.00000000e+00 1.00000000e+00]\n",
      " [3.00000000e+00 1.90030637e-17 1.00000000e+00]\n",
      " [4.00000000e+00 1.00000000e+00 3.00000000e+00]]\n"
     ]
    }
   ],
   "source": [
    "A = np.array([[0, 1, 1], [3, 0, 1], [4, 1, 3]])\n",
    "Q, R = gramschmidt(A)\n",
    "print(\"Q = \\n\", Q)\n",
    "print('-'*50)\n",
    "print('The orthonormal basis of A is:')\n",
    "print('q1 = ', Q[:, 0])\n",
    "print('q2 = ', Q[:, 1])\n",
    "print('q3 = ', Q[:, 2])\n",
    "print('-'*50)\n",
    "print(\"R = \\n\", R)\n",
    "print('-'*50)\n",
    "print('The QR decomposition of A is:', np.dot(Q, R))"
   ]
  },
  {
   "cell_type": "code",
   "execution_count": 40,
   "metadata": {},
   "outputs": [],
   "source": [
    "# compute the inverse of A with the method of Gram-Schmidt\n",
    "def inverse(A):\n",
    "    Q, R = gramschmidt(A)\n",
    "    m, n = A.shape\n",
    "    I = np.eye(m)\n",
    "    inv = np.zeros((m, n))\n",
    "    for i in range(m):\n",
    "        b = I[:, i]\n",
    "        x = np.linalg.solve(R, np.dot(Q.T, b))\n",
    "        inv[:, i] = x\n",
    "    return inv"
   ]
  },
  {
   "cell_type": "code",
   "execution_count": 42,
   "metadata": {},
   "outputs": [
    {
     "name": "stdout",
     "output_type": "stream",
     "text": [
      "The inverse of A is:\n",
      " [[ 0.5  1.  -0.5]\n",
      " [ 2.5  2.  -1.5]\n",
      " [-1.5 -2.   1.5]]\n",
      "--------------------------------------------------\n",
      "The inverse of A is with computation of numpy package:\n",
      " [[ 0.5  1.  -0.5]\n",
      " [ 2.5  2.  -1.5]\n",
      " [-1.5 -2.   1.5]]\n"
     ]
    }
   ],
   "source": [
    "inversed_A = inverse(A)\n",
    "print('The inverse of A is:\\n', inversed_A)\n",
    "print('-'*50)\n",
    "print('The inverse of A is with computation of numpy package:\\n', np.linalg.inv(A))"
   ]
  },
  {
   "attachments": {},
   "cell_type": "markdown",
   "metadata": {},
   "source": [
    "<div style=\"background-color:lightblue;margin:20px;padding:10px;border-radius:10px;border-width:2px;border-color:black;box-shadow:5px 5px;width:95%\">\n",
    "\n",
    "**Question 2**\n",
    "\n",
    "Implement the Conjugated Gradient (CG) algorithm (see Course \\#5) which computes the next conjugate direction at each iteration. Test numerically the following claims:\n",
    "- The CG algorithm converges in $n$ iterations.\n",
    "- If $A$ has only $k<n$ distinct eigenvalues then the CG algorithm converges in $k$ iterations.\n",
    "\n",
    "**Note:** In order to generate interesting test-cases recall that any orthogonal matrix $U$ and diagonal matrix $D$ with positive entries generates a symmetric positive definite matrix\n",
    "$$\n",
    "A=U D U^T\n",
    "$$\n",
    "You may define an arbitrary diagonal matrix $D$ starting from a vector with positive entries using the command **numpy.diag**. You can find general orthonormal matrices $U$ starting from an arbitrary basis of $\\mathbb{R}^n$ with the command **scipy.linalg.orth**. For example, you may consider the following code:\n",
    "```python\n",
    "N = 100\n",
    "M = np.random.rand(N,N)\n",
    "U = scipy.linalg.orth(M)\n",
    "D = numpy.diag(numpy.random.rand(N))\n",
    "A = U@D@U.T\n",
    "```\n",
    "which will generate a symmetric positive matrix $A$ of size $100 \\times 100$. Moreover, in order to test the convergence of $\\mathrm{CG}$ in terms of the number of distinct eigenvalues you may manually set some of the values in $D$ to be equal to the same common value in order to obtain eigenvalues with the multiplicity that you want. **Do not choose $N$ too big. Recall that a $10000 \\times 10000$ matrix already occupies $800 \\mathbf{M b}$ of RAM memory and a $40000 \\times 40000$ matrix will occupy almost 13 Gb of RAM**.\n",
    "</div>"
   ]
  },
  {
   "cell_type": "code",
   "execution_count": 76,
   "metadata": {},
   "outputs": [],
   "source": [
    "def conjugate_gradient(A, b, x0, tol=1e-15, max_iter=2000):\n",
    "    n = len(b)\n",
    "    x = x0.copy()\n",
    "    r = b - A @ x\n",
    "    p = r.copy()\n",
    "    if max_iter is None:\n",
    "        max_iter = n\n",
    "    for _ in range(max_iter):\n",
    "        Ap = A @ p\n",
    "        alpha = np.dot(r, r) / np.dot(p, Ap)\n",
    "        x = x + alpha * p\n",
    "        r_new = r - alpha * Ap\n",
    "        if np.linalg.norm(r_new) < tol:\n",
    "            break\n",
    "        beta = np.dot(r_new, r_new) / np.dot(r, r)\n",
    "        p = r_new + beta * p\n",
    "        r = r_new\n",
    "    return x\n"
   ]
  },
  {
   "cell_type": "code",
   "execution_count": 74,
   "metadata": {},
   "outputs": [
    {
     "name": "stdout",
     "output_type": "stream",
     "text": [
      "A = \n",
      " [[ 1.83267921 -0.19982955 -0.19914303 -0.10888825 -0.21881064]\n",
      " [-0.19982955  1.72058181 -0.19667949 -0.30329169 -0.17533724]\n",
      " [-0.19914303 -0.19667949  1.72143244  0.04531322 -0.34723712]\n",
      " [-0.10888825 -0.30329169  0.04531322  1.19282929  0.2230479 ]\n",
      " [-0.21881064 -0.17533724 -0.34723712  0.2230479   1.53247725]]\n",
      "--------------------------------------------------\n",
      "b = \n",
      " [0.63992102 0.14335329 0.94466892 0.52184832 0.41466194]\n",
      "--------------------------------------------------\n",
      "The solution of Ax = b with conjugate gradient method is:\n",
      " [0.55565958 0.36402943 0.74189644 0.46046564 0.49265473]\n",
      "--------------------------------------------------\n",
      "The solution of Ax = b with numpy package is:\n",
      " [0.55565958 0.36402943 0.74189644 0.46046564 0.49265473]\n"
     ]
    }
   ],
   "source": [
    "import scipy.linalg\n",
    "\n",
    "np.random.seed(0)\n",
    "N = 5\n",
    "M = np.random.rand(N,N)\n",
    "U = scipy.linalg.orth(M)\n",
    "D = np.diag([1, 1, 2, 2, 2]) # two distinct eigenvalues\n",
    "A = U @ D @ U.T\n",
    "b = np.random.rand(N)\n",
    "x0 = np.zeros(N)\n",
    "print('A = \\n', A)\n",
    "print('-'*50)\n",
    "print('b = \\n', b)\n",
    "print('-'*50)\n",
    "\n",
    "# solve Ax = b with conjugate gradient method\n",
    "x = conjugate_gradient(A, b, x0)\n",
    "print('The solution of Ax = b with conjugate gradient method is:\\n', x)\n",
    "print('-'*50)\n",
    "print('The solution of Ax = b with numpy package is:\\n', np.linalg.solve(A, b))"
   ]
  },
  {
   "attachments": {},
   "cell_type": "markdown",
   "metadata": {},
   "source": [
    "<div style=\"background-color:lightblue;margin:20px;padding:10px;border-radius:10px;border-width:2px;border-color:black;box-shadow:5px 5px;width:95%\">\n",
    "\n",
    "**Question 3**\n",
    "\n",
    "For a moderate size problem (e.g. $n=1000$ ) compute the condition number $Q$ of the matrix $A$ and compute the following quantities\n",
    "- the error with respect to the objective function\n",
    "$$\n",
    "E\\left(x_i\\right)=\\frac{1}{2}\\left(x_i-x^*\\right)^T A\\left(x_i-x^*\\right)\n",
    "$$\n",
    "- the error estimate\n",
    "$$\n",
    "4\\left(\\frac{\\sqrt{Q}-1}{\\sqrt{Q}+1}\\right)^{2 i}\n",
    "$$\n",
    "and store them in two vectors. Run the full $n$ iterations of the CG algorithm.\n",
    "Plot the two quantities at the end of the optimization algorithm in order to have a comparison between the actual error and the error estimate. Decide where you could have stopped the optimization process with acceptable results.\n",
    "</div>"
   ]
  },
  {
   "cell_type": "code",
   "execution_count": 77,
   "metadata": {},
   "outputs": [],
   "source": [
    "# compute the condition number of A\n",
    "def condition_number(A):\n",
    "    return np.linalg.norm(A) * np.linalg.norm(np.linalg.inv(A))\n",
    "\n",
    "def conjugate_gradient_error(A, b, x0, tol=1e-10, max_iter=2000):\n",
    "    n = len(b)\n",
    "    x = x0.copy()\n",
    "    r = b - A @ x\n",
    "    p = r.copy()\n",
    "    num_iter = 0\n",
    "    x_star = np.linalg.solve(A, b)\n",
    "    error = []\n",
    "    error_estimates = []\n",
    "    for i in range(max_iter):\n",
    "        error.append(1/2 * (x - x_star).T @ A @ (x - x_star))\n",
    "        error_estimates.append(4 * (np.sqrt(condition_number(A)) - 1) / (np.sqrt(condition_number(A)) + 1) ** (2 * i))\n",
    "        Ap = A @ p\n",
    "        alpha = np.dot(r, r) / np.dot(p, Ap)\n",
    "        x = x + alpha * p\n",
    "        r_new = r - alpha * Ap\n",
    "        if np.linalg.norm(r_new) < tol:\n",
    "            break\n",
    "        beta = np.dot(r_new, r_new) / np.dot(r, r)\n",
    "        p = r_new + beta * p\n",
    "        r = r_new\n",
    "        num_iter += 1\n",
    "    return x, error, error_estimates, num_iter"
   ]
  },
  {
   "cell_type": "code",
   "execution_count": 82,
   "metadata": {},
   "outputs": [
    {
     "name": "stderr",
     "output_type": "stream",
     "text": [
      "<ipython-input-77-466072c2e80b>:16: RuntimeWarning: overflow encountered in scalar power\n",
      "  error_estimates.append(4 * (np.sqrt(condition_number(A)) - 1) / (np.sqrt(condition_number(A)) + 1) ** (2 * i))\n"
     ]
    }
   ],
   "source": [
    "np.random.seed(0)\n",
    "N = 1000\n",
    "M = np.random.rand(N, N)\n",
    "U = scipy.linalg.orth(M)\n",
    "D = np.diag(np.random.rand(N))\n",
    "A = U@D@U.T\n",
    "b = np.random.rand(N)\n",
    "x0 = np.zeros(N)\n",
    "x, error, error_estimates, num_iter = conjugate_gradient_error(A, b, x0)"
   ]
  },
  {
   "cell_type": "code",
   "execution_count": 88,
   "metadata": {},
   "outputs": [
    {
     "data": {
      "image/png": "[encoded data removed]",
      "text/plain": [
       "<Figure size 720x504 with 1 Axes>"
      ]
     },
     "metadata": {
      "needs_background": "light"
     },
     "output_type": "display_data"
    }
   ],
   "source": [
    "# plot the graph of error and error estimates, error in log scale\n",
    "plt.figure(figsize=(10, 7))\n",
    "plt.plot(error, label='error')\n",
    "plt.plot(error_estimates, label='error estimates')\n",
    "plt.yscale('log')\n",
    "plt.xlabel('iteration')\n",
    "plt.ylabel('error (log scale)')\n",
    "plt.title('Error and error estimates of conjugate gradient method')\n",
    "plt.legend()\n",
    "plt.show()"
   ]
  }
 ],
 "metadata": {
  "kernelspec": {
   "display_name": "mlp",
   "language": "python",
   "name": "python3"
  },
  "language_info": {
   "codemirror_mode": {
    "name": "ipython",
    "version": 3
   },
   "file_extension": ".py",
   "mimetype": "text/x-python",
   "name": "python",
   "nbconvert_exporter": "python",
   "pygments_lexer": "ipython3",
   "version": "3.9.16"
  },
  "orig_nbformat": 4
 },
 "nbformat": 4,
 "nbformat_minor": 2
}
